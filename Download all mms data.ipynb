{
 "cells": [
  {
   "cell_type": "code",
   "execution_count": 6,
   "metadata": {},
   "outputs": [
    {
     "name": "stdout",
     "output_type": "stream",
     "text": [
      "{'@context': 'http://id.who.int/icd/contexts/contextForTopLevel.json', '@id': 'http://id.who.int/icd/release/11/2019-04/mms', 'title': {'@language': 'en', '@value': 'International Classification of Diseases 11th Revision - Mortality and Morbidity Statistics'}, 'releaseId': '2019-04', 'releaseDate': '2019-04-06', 'child': ['http://id.who.int/icd/release/11/2019-04/mms/1435254666', 'http://id.who.int/icd/release/11/2019-04/mms/1630407678', 'http://id.who.int/icd/release/11/2019-04/mms/1766440644', 'http://id.who.int/icd/release/11/2019-04/mms/1954798891', 'http://id.who.int/icd/release/11/2019-04/mms/21500692', 'http://id.who.int/icd/release/11/2019-04/mms/334423054', 'http://id.who.int/icd/release/11/2019-04/mms/274880002', 'http://id.who.int/icd/release/11/2019-04/mms/1296093776', 'http://id.who.int/icd/release/11/2019-04/mms/868865918', 'http://id.who.int/icd/release/11/2019-04/mms/1218729044', 'http://id.who.int/icd/release/11/2019-04/mms/426429380', 'http://id.who.int/icd/release/11/2019-04/mms/197934298', 'http://id.who.int/icd/release/11/2019-04/mms/1256772020', 'http://id.who.int/icd/release/11/2019-04/mms/1639304259', 'http://id.who.int/icd/release/11/2019-04/mms/1473673350', 'http://id.who.int/icd/release/11/2019-04/mms/30659757', 'http://id.who.int/icd/release/11/2019-04/mms/577470983', 'http://id.who.int/icd/release/11/2019-04/mms/714000734', 'http://id.who.int/icd/release/11/2019-04/mms/1306203631', 'http://id.who.int/icd/release/11/2019-04/mms/223744320', 'http://id.who.int/icd/release/11/2019-04/mms/1843895818', 'http://id.who.int/icd/release/11/2019-04/mms/435227771', 'http://id.who.int/icd/release/11/2019-04/mms/850137482', 'http://id.who.int/icd/release/11/2019-04/mms/1249056269', 'http://id.who.int/icd/release/11/2019-04/mms/1596590595', 'http://id.who.int/icd/release/11/2019-04/mms/718687701', 'http://id.who.int/icd/release/11/2019-04/mms/231358748', 'http://id.who.int/icd/release/11/2019-04/mms/979408586'], 'browserUrl': 'https://icd.who.int/browse11/l-m/en'}\n",
      "Number of nodes processed: 33549\n",
      "Time elapsed in seconds: 1695.4825139045715\n"
     ]
    }
   ],
   "source": [
    "import icd11\n",
    "import time\n",
    "import pickle\n",
    "import os\n",
    "\n",
    "from collections import deque\n",
    "\n",
    "def save_to_pickle(value, file_name):\n",
    "    pickle.dump(value,open('mms_data/'+file_name+'.pkl','wb'))\n",
    "    \n",
    "child_nodes = deque()\n",
    "root =  icd11.release_data(\"\")\n",
    "print(root)\n",
    "save_to_pickle(root,'root')\n",
    "initial_nodes = [node.split('/')[-1] for node in root['child']]\n",
    "number_of_nodes = 1\n",
    "start_time = time.time()\n",
    "saved_nodes = set(os.listdir('mms_data'))\n",
    "for child_node in initial_nodes:\n",
    "    child_nodes.append(child_node)\n",
    "while child_nodes:\n",
    "    print(number_of_nodes,end='\\r')\n",
    "    current_id = child_nodes.popleft()\n",
    "    current_node = None\n",
    "    try:\n",
    "        if current_id + '.pkl' in saved_nodes:\n",
    "            current_node = pickle.load(open('mms_data/'+current_id+'.pkl','rb'))\n",
    "        else:\n",
    "            current_node = icd11.release_data(current_id)\n",
    "        if not 'child' in current_node.keys():\n",
    "            current_node['child'] = []\n",
    "        current_child_nodes = list()\n",
    "        for child_id in current_node['child']:\n",
    "            chunked_id = child_id.split('/')\n",
    "            if 'other' in child_id or 'unspecified' in child_id:\n",
    "                current_child_nodes.append(chunked_id[-2]+'/'+chunked_id[-1])\n",
    "            else:\n",
    "                current_child_nodes.append(chunked_id[-1])\n",
    "        for node in current_child_nodes:\n",
    "            child_nodes.append(node)\n",
    "            number_of_nodes += 1\n",
    "        save_to_pickle(current_node, current_id.replace('/','_'))\n",
    "    except Exception as e:\n",
    "        print(e)\n",
    "        child_nodes.appendleft(current_id)\n",
    "        icd11.update_token()\n",
    "print(\"Number of nodes processed:\", number_of_nodes)\n",
    "print(\"Time elapsed in seconds:\",  time.time() - start_time)"
   ]
  },
  {
   "cell_type": "code",
   "execution_count": 1,
   "metadata": {
    "collapsed": true
   },
   "outputs": [],
   "source": [
    "import os\n",
    "import pickle\n",
    "import json\n",
    "\n",
    "\n",
    "node_paths = os.listdir('mms_data')\n",
    "node_paths = ['mms_data/' + node_path for node_path in node_paths]\n",
    "nodes = list()\n",
    "for node_path in node_paths:\n",
    "    node = pickle.load(open(node_path,'rb'))\n",
    "    nodes.append(node)\n",
    "json.dump(nodes,open('icd11_mms.json','w'))"
   ]
  },
  {
   "cell_type": "code",
   "execution_count": 3,
   "metadata": {},
   "outputs": [
    {
     "data": {
      "text/plain": [
       "{'@context': 'http://id.who.int/icd/contexts/contextForLinearizationEntity.json',\n",
       " '@id': 'http://id.who.int/icd/release/11/2019-04/mms/1192168487',\n",
       " 'browserUrl': 'https://icd.who.int/browse11/l-m/en#/http%3a%2f%2fid.who.int%2ficd%2fentity%2f1192168487',\n",
       " 'child': [],\n",
       " 'classKind': 'category',\n",
       " 'code': 'QC68',\n",
       " 'indexTerm': [{'label': {'@language': 'en',\n",
       "    '@value': 'Family history of consanguinity'}}],\n",
       " 'parent': ['http://id.who.int/icd/release/11/2019-04/mms/1143554706'],\n",
       " 'source': 'http://id.who.int/icd/entity/1192168487',\n",
       " 'title': {'@language': 'en', '@value': 'Family history of consanguinity'}}"
      ]
     },
     "metadata": {},
     "output_type": "display_data"
    },
    {
     "data": {
      "text/plain": [
       "{'@context': 'http://id.who.int/icd/contexts/contextForLinearizationEntity.json',\n",
       " '@id': 'http://id.who.int/icd/release/11/2019-04/mms/251307303',\n",
       " 'browserUrl': 'https://icd.who.int/browse11/l-m/en#/http%3a%2f%2fid.who.int%2ficd%2fentity%2f251307303',\n",
       " 'child': [],\n",
       " 'classKind': 'category',\n",
       " 'code': '3B64.13',\n",
       " 'definition': {'@language': 'en',\n",
       "  '@value': 'A disease caused by determinants such as a blood transfusion that lead to an immune response to the foreign antigens. This disease is characterised by low levels of platelets in the body due to an immune reactive response to the foreign platelet antigens. This disease may present with increased bruising or haemorrhaging. Confirmation is by identification of decreased platelet count and presence of autoantibodies in a blood sample.'},\n",
       " 'indexTerm': [{'label': {'@language': 'en',\n",
       "    '@value': 'Alloimmune thrombocytopenia'}}],\n",
       " 'parent': ['http://id.who.int/icd/release/11/2019-04/mms/526155201'],\n",
       " 'source': 'http://id.who.int/icd/entity/251307303',\n",
       " 'title': {'@language': 'en', '@value': 'Alloimmune thrombocytopenia'}}"
      ]
     },
     "metadata": {},
     "output_type": "display_data"
    },
    {
     "data": {
      "text/plain": [
       "{'@context': 'http://id.who.int/icd/contexts/contextForLinearizationEntity.json',\n",
       " '@id': 'http://id.who.int/icd/release/11/2019-04/mms/2074348881',\n",
       " 'browserUrl': 'https://icd.who.int/browse11/l-m/en#/http%3a%2f%2fid.who.int%2ficd%2fentity%2f2074348881',\n",
       " 'child': [],\n",
       " 'classKind': 'category',\n",
       " 'code': 'ND14.A0',\n",
       " 'indexTerm': [{'label': {'@language': 'en',\n",
       "    '@value': 'Strain or sprain of metatarsophalangeal joint of lesser toe'}}],\n",
       " 'parent': ['http://id.who.int/icd/release/11/2019-04/mms/43054047'],\n",
       " 'postcoordinationScale': [{'@id': 'http://id.who.int/icd/release/11/2019-04/mms/2074348881/postcoordinationScale/laterality',\n",
       "   'allowMultipleValues': 'NotAllowed',\n",
       "   'axisName': 'http://id.who.int/icd/schema/laterality',\n",
       "   'requiredPostcoordination': 'false',\n",
       "   'scaleEntity': ['http://id.who.int/icd/release/11/2019-04/mms/627678743',\n",
       "    'http://id.who.int/icd/release/11/2019-04/mms/271422288',\n",
       "    'http://id.who.int/icd/release/11/2019-04/mms/876572005',\n",
       "    'http://id.who.int/icd/release/11/2019-04/mms/1038788978',\n",
       "    'http://id.who.int/icd/release/11/2019-04/mms/1694310660']},\n",
       "  {'@id': 'http://id.who.int/icd/release/11/2019-04/mms/2074348881/postcoordinationScale/associatedWith',\n",
       "   'allowMultipleValues': 'AllowAlways',\n",
       "   'axisName': 'http://id.who.int/icd/schema/associatedWith',\n",
       "   'requiredPostcoordination': 'false',\n",
       "   'scaleEntity': ['http://id.who.int/icd/release/11/2019-04/mms/980862652',\n",
       "    'http://id.who.int/icd/release/11/2019-04/mms/851395624',\n",
       "    'http://id.who.int/icd/release/11/2019-04/mms/73322695',\n",
       "    'http://id.who.int/icd/release/11/2019-04/mms/128104623',\n",
       "    'http://id.who.int/icd/release/11/2019-04/mms/1491356379',\n",
       "    'http://id.who.int/icd/release/11/2019-04/mms/491063206',\n",
       "    'http://id.who.int/icd/release/11/2019-04/mms/185842968',\n",
       "    'http://id.who.int/icd/release/11/2019-04/mms/2143219175',\n",
       "    'http://id.who.int/icd/release/11/2019-04/mms/558785723',\n",
       "    'http://id.who.int/icd/release/11/2019-04/mms/850137482/other',\n",
       "    'http://id.who.int/icd/release/11/2019-04/mms/850137482/unspecified']}],\n",
       " 'source': 'http://id.who.int/icd/entity/2074348881',\n",
       " 'title': {'@language': 'en',\n",
       "  '@value': 'Strain or sprain of metatarsophalangeal joint of lesser toe'}}"
      ]
     },
     "metadata": {},
     "output_type": "display_data"
    }
   ],
   "source": [
    "import json\n",
    "nodes = json.load(open('icd11_mms.json','r'))\n",
    "for node in nodes[:3]:\n",
    "    display(node)"
   ]
  }
 ],
 "metadata": {
  "kernelspec": {
   "display_name": "Python 3",
   "language": "python",
   "name": "python3"
  },
  "language_info": {
   "codemirror_mode": {
    "name": "ipython",
    "version": 3
   },
   "file_extension": ".py",
   "mimetype": "text/x-python",
   "name": "python",
   "nbconvert_exporter": "python",
   "pygments_lexer": "ipython3",
   "version": "3.6.2"
  }
 },
 "nbformat": 4,
 "nbformat_minor": 2
}
